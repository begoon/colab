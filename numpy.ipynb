{
  "nbformat": 4,
  "nbformat_minor": 0,
  "metadata": {
    "colab": {
      "name": "numpy.ipynb",
      "provenance": [],
      "collapsed_sections": [],
      "authorship_tag": "ABX9TyPqZtNoHtg/2toImr0nKD+d",
      "include_colab_link": true
    },
    "kernelspec": {
      "name": "python3",
      "display_name": "Python 3"
    },
    "language_info": {
      "name": "python"
    }
  },
  "cells": [
    {
      "cell_type": "markdown",
      "metadata": {
        "id": "view-in-github",
        "colab_type": "text"
      },
      "source": [
        "<a href=\"https://colab.research.google.com/github/begoon/colab/blob/main/numpy.ipynb\" target=\"_parent\"><img src=\"https://colab.research.google.com/assets/colab-badge.svg\" alt=\"Open In Colab\"/></a>"
      ]
    },
    {
      "cell_type": "code",
      "metadata": {
        "id": "Bsxq8mmxuuz0"
      },
      "source": [
        "import numpy as np"
      ],
      "execution_count": 2,
      "outputs": []
    },
    {
      "cell_type": "code",
      "metadata": {
        "id": "dvQ2nVxXwyY3"
      },
      "source": [
        "gs = 5"
      ],
      "execution_count": 11,
      "outputs": []
    },
    {
      "cell_type": "code",
      "metadata": {
        "colab": {
          "base_uri": "https://localhost:8080/"
        },
        "id": "yasCqAeNwAbi",
        "outputId": "224d20ea-34f0-4166-e392-133dc7786575"
      },
      "source": [
        "a = np.array(range(gs * gs)).reshape(gs, gs)\n",
        "print(a)\n",
        "print(a[0])\n",
        "print(a[0][::-1])"
      ],
      "execution_count": 98,
      "outputs": [
        {
          "output_type": "stream",
          "name": "stdout",
          "text": [
            "[[ 0  1  2  3  4]\n",
            " [ 5  6  7  8  9]\n",
            " [10 11 12 13 14]\n",
            " [15 16 17 18 19]\n",
            " [20 21 22 23 24]]\n",
            "[0 1 2 3 4]\n",
            "[4 3 2 1 0]\n"
          ]
        }
      ]
    },
    {
      "cell_type": "code",
      "metadata": {
        "colab": {
          "base_uri": "https://localhost:8080/"
        },
        "id": "_9oVr32DCdk9",
        "outputId": "04715959-daf3-4c95-c4ec-510b149e82f8"
      },
      "source": [
        "shapes = [\n",
        "  # shape,             value,  stop, combo\n",
        "  [[1, 1, 1, 1, 1   ], 500000, 1,    0],     # \"XXXXX\"\n",
        "  [[0, 1, 1, 1, 1, 0], 500000, 1,    0],     # \" XXXX \"\n",
        "  [[1, 1, 1, 1, 1, 0],   1000, 0,    1],     # \"XXXX \"   XXX X\n",
        "\n",
        "  # OXXX  XXXO\n",
        "  # OXXX xXX XO\n",
        "  # ^^^^^\n",
        "  #     ^^^^^ \n",
        "\n",
        "  [[1, 0, 0, 0, 0], 1, 1, 0],        # \"X    \"  S\n",
        "  [[1, 1, 0, 0, 0], 2, 1, 0],        # \"XX   \"  S\n",
        "  [[1, 1, 1, 0, 0], 3, 1, 0],        # \"XXX  \"  S\n",
        "  [[1, 1, 1, 1, 0], 1000, 1, 1],     # \"XXXX \"  S, WC\n",
        "  [[0, 1, 0, 0, 0], 1, 1, 0],        # \" X   \"  S\n",
        "  [[0, 0, 1, 0, 0], 1, 0, 0],        # \"  X  \"\n",
        "  [[0, 1, 1, 0, 0], 2, 1, 0],        # \" XX  \"  S\n",
        "  [[0, 1, 1, 1, 0], 1000, 0, 1],     # \" XXX \"  -, WC\n",
        "  [[1, 1, 1, 0, 1], 1000, 1, 1],     # \"XXX X\"  S, WC\n",
        "  [[1, 1, 0, 1, 1], 1000, 1, 1],     # \"XX XX\"  -, WC\n",
        "  [[1, 1, 0, 1, 1, 1], 1000, 1, 1],  # \"XX XXX\" S, WC\n",
        "]\n",
        "def find_shape(v, shape):\n",
        "  shape_sz = len(shape)\n",
        "  positions = []\n",
        "  found = 0\n",
        "  for i in range(len(v) - shape_sz + 1):\n",
        "    if v[i:i + shape_sz] == shape:\n",
        "       found += 1\n",
        "       positions.append(i)\n",
        "  return found, positions\n",
        "\n",
        "def value_shapes(original_v, shapes):\n",
        "  total_value = 0\n",
        "  win_combos = 0\n",
        "  for i, (shape, value, reverse, win_combo) in enumerate(shapes):\n",
        "    v = list(original_v)\n",
        "    found, positions = find_shape(v, shape)\n",
        "    if found:\n",
        "      print(found, positions, shape, value)\n",
        "      total_value += found * value\n",
        "      for j in positions:\n",
        "        v[j:j+len(shape)] = [-1] * len(shape)\n",
        "      if win_combo:\n",
        "        win_combos += 1\n",
        "    if reverse:\n",
        "      found, positions = find_shape(v, shape[::-1])\n",
        "      if found:\n",
        "        print(found, positions, shape, value)\n",
        "        total_value += found * value\n",
        "      if win_combo:\n",
        "        win_combos += 1\n",
        "    if win_combos > 1:\n",
        "      total_value += 10000\n",
        "  return total_value\n",
        "\n",
        "line = [0, 1, 1, 1, 0, 1, 1, 1, 0] ???\n",
        "print(value_shapes(line, shapes))"
      ],
      "execution_count": 165,
      "outputs": [
        {
          "output_type": "stream",
          "name": "stdout",
          "text": [
            "2 [0, 4] [0, 1, 1, 1, 0] 1000\n",
            "1 [1] [1, 1, 1, 0, 1] 1000\n",
            "1 [2] [1, 1, 0, 1, 1] 1000\n",
            "1 [2] [1, 1, 0, 1, 1, 1] 1000\n",
            "55000\n"
          ]
        }
      ]
    },
    {
      "cell_type": "code",
      "metadata": {
        "colab": {
          "base_uri": "https://localhost:8080/"
        },
        "id": "HJ0ETTEJzQpg",
        "outputId": "ac22d89c-f94f-406c-8ff5-bf7ced546881"
      },
      "source": [
        "def diagonals(f, x, y):\n",
        "  ds = []\n",
        "  ds.append(f.diagonal(x - y))\n",
        "  ds.append(f[:, ::-1].diagonal((gs - x -1) - y))\n",
        "  ds.append(f[:, y])\n",
        "  ds.append(f[x, :])\n",
        "  return ds\n",
        "print(a)\n",
        "print(diagonals(a, 2, 2))\n"
      ],
      "execution_count": 84,
      "outputs": [
        {
          "name": "stdout",
          "output_type": "stream",
          "text": [
            "[[ 0  1  2  3  4]\n",
            " [ 5  6  7  8  9]\n",
            " [10 11 12 13 14]\n",
            " [15 16 17 18 19]\n",
            " [20 21 22 23 24]]\n",
            "[array([ 0,  6, 12, 18, 24]), array([ 4,  8, 12, 16, 20]), array([ 2,  7, 12, 17, 22]), array([10, 11, 12, 13, 14])]\n",
            "111\n"
          ]
        }
      ]
    }
  ]
}